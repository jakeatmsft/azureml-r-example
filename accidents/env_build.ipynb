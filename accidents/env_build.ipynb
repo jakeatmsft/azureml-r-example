{
  "cells": [
    {
      "cell_type": "code",
      "source": [
        "from azureml.core import Workspace\r\n",
        "ws = Workspace.from_config()\r\n",
        "print(ws)\r\n",
        "\r\n",
        "#Create R environment from dockerfile\r\n",
        "from azureml.core import Environment\r\n",
        "curated_env = Environment.get(ws, 'AzureML-minimal-ubuntu18.04-py37-cpu-inference')\r\n",
        "\r\n",
        "env = curated_env.clone('r_train_env1')\r\n",
        "env.docker.enabled = True\r\n",
        "\r\n",
        "\r\n",
        "# if you are using base image from a Dockerfile\r\n",
        "env.docker.base_image = None\r\n",
        "env.docker.base_dockerfile = '/docker-context/Dockerfile'\r\n",
        "\r\n",
        "# The user_managed_dependencies flag to True will use your custom image's built-in Python environment. \r\n",
        "env.python.user_managed_dependencies = True\r\n",
        "env.register(ws)"
      ],
      "outputs": [
        {
          "output_type": "stream",
          "name": "stdout",
          "text": "Workspace.create(name='wu2modtimesmlsw', subscription_id='7fd76d0f-84f2-498b-a997-e0d059af5ce1', resource_group='wu2modtimerg')\n"
        },
        {
          "output_type": "execute_result",
          "execution_count": 27,
          "data": {
            "text/plain": "{\n    \"databricks\": {\n        \"eggLibraries\": [],\n        \"jarLibraries\": [],\n        \"mavenLibraries\": [],\n        \"pypiLibraries\": [],\n        \"rcranLibraries\": []\n    },\n    \"docker\": {\n        \"arguments\": [],\n        \"baseDockerfile\": \"FROM rocker/tidyverse:4.0.0-ubuntu18.04\\n\\n# Install python\\nRUN apt-get update -qq && \\\\\\n apt-get install -y python3-pip tcl tk libz-dev libpng-dev\\n\\nRUN ln -f /usr/bin/python3 /usr/bin/python\\nRUN ln -f /usr/bin/pip3 /usr/bin/pip\\nRUN pip install -U pip\\n\\n# Install azureml-mlflow\\nRUN pip install azureml-mlflow\\n\\n# Create link for python\\nRUN ln -f /usr/bin/python3 /usr/bin/python\\n\\n# Install additional R packages\\nRUN R -e \\\"install.packages(c('mlflow'), repos = 'https://cloud.r-project.org/')\\\"\\nRUN R -e \\\"install.packages(c('carrier'), repos = 'https://cloud.r-project.org/')\\\"\\nRUN R -e \\\"install.packages(c('optparse'), repos = 'https://cloud.r-project.org/')\\\"\\nRUN R -e \\\"install.packages(c('tcltk2'), repos = 'https://cloud.r-project.org/')\\\"\\n\",\n        \"baseImage\": null,\n        \"baseImageRegistry\": {\n            \"address\": null,\n            \"password\": null,\n            \"registryIdentity\": null,\n            \"username\": null\n        },\n        \"enabled\": true,\n        \"platform\": {\n            \"architecture\": \"amd64\",\n            \"os\": \"Linux\"\n        },\n        \"sharedVolumes\": true,\n        \"shmSize\": null\n    },\n    \"environmentVariables\": {\n        \"EXAMPLE_ENV_VAR\": \"EXAMPLE_VALUE\"\n    },\n    \"inferencingStackVersion\": null,\n    \"name\": \"r_train_env1\",\n    \"python\": {\n        \"baseCondaEnvironment\": null,\n        \"condaDependenciesFile\": null,\n        \"interpreterPath\": \"python\",\n        \"userManagedDependencies\": true\n    },\n    \"r\": null,\n    \"spark\": {\n        \"packages\": [],\n        \"precachePackages\": true,\n        \"repositories\": []\n    },\n    \"version\": \"1\"\n}"
          },
          "metadata": {}
        }
      ],
      "execution_count": 27,
      "metadata": {
        "jupyter": {
          "source_hidden": false,
          "outputs_hidden": false
        },
        "nteract": {
          "transient": {
            "deleting": false
          }
        },
        "gather": {
          "logged": 1648217501317
        }
      }
    },
    {
      "cell_type": "code",
      "source": [
        "from azureml.core.compute import ComputeTarget, AmlCompute\n",
        "from azureml.core.compute_target import ComputeTargetException\n",
        "\n",
        "num_nodes = 1\n",
        "\n",
        "# Choose a name for your cluster.\n",
        "amlcompute_cluster_name = \"cpu-cluster\"\n",
        "\n",
        "# Verify that cluster does not exist already\n",
        "try:\n",
        "    compute_target = ComputeTarget(workspace=ws, name=amlcompute_cluster_name)\n",
        "    print(\"Found existing cluster, use it.\")\n",
        "except ComputeTargetException:\n",
        "    compute_config = AmlCompute.provisioning_configuration(\n",
        "        vm_size=\"STANDARD_Dv2\", max_nodes=num_nodes  \n",
        "    )\n",
        "    compute_target = ComputeTarget.create(ws, amlcompute_cluster_name, compute_config)\n",
        "\n",
        "compute_target.wait_for_completion(show_output=True)\n"
      ],
      "outputs": [
        {
          "output_type": "stream",
          "name": "stdout",
          "text": "Found existing cluster, use it.\nSucceeded\nAmlCompute wait for completion finished\n\nMinimum number of nodes requested have been provisioned\n"
        }
      ],
      "execution_count": 28,
      "metadata": {
        "jupyter": {
          "source_hidden": false,
          "outputs_hidden": false
        },
        "nteract": {
          "transient": {
            "deleting": false
          }
        },
        "gather": {
          "logged": 1648217516935
        }
      }
    },
    {
      "cell_type": "code",
      "source": [],
      "outputs": [],
      "execution_count": null,
      "metadata": {
        "jupyter": {
          "source_hidden": false,
          "outputs_hidden": false
        },
        "nteract": {
          "transient": {
            "deleting": false
          }
        }
      }
    }
  ],
  "metadata": {
    "kernelspec": {
      "name": "python38-azureml",
      "language": "python",
      "display_name": "Python 3.8 - AzureML"
    },
    "language_info": {
      "name": "python",
      "version": "3.8.1",
      "mimetype": "text/x-python",
      "codemirror_mode": {
        "name": "ipython",
        "version": 3
      },
      "pygments_lexer": "ipython3",
      "nbconvert_exporter": "python",
      "file_extension": ".py"
    },
    "kernel_info": {
      "name": "python38-azureml"
    },
    "microsoft": {
      "host": {
        "AzureML": {
          "notebookHasBeenCompleted": true
        }
      }
    },
    "nteract": {
      "version": "nteract-front-end@1.0.0"
    }
  },
  "nbformat": 4,
  "nbformat_minor": 0
}