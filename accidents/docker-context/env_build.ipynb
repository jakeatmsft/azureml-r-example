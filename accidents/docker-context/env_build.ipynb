{
  "cells": [
    {
      "cell_type": "code",
      "source": [
        "from azureml.core import Workspace\r\n",
        "ws = Workspace.from_config()\r\n",
        "ws"
      ],
      "outputs": [
        {
          "output_type": "execute_result",
          "execution_count": 13,
          "data": {
            "text/plain": "Workspace.create(name='wu2modtimesmlsw', subscription_id='7fd76d0f-84f2-498b-a997-e0d059af5ce1', resource_group='wu2modtimerg')"
          },
          "metadata": {}
        }
      ],
      "execution_count": 13,
      "metadata": {
        "jupyter": {
          "source_hidden": false,
          "outputs_hidden": false
        },
        "nteract": {
          "transient": {
            "deleting": false
          }
        },
        "gather": {
          "logged": 1648153470353
        }
      }
    },
    {
      "cell_type": "code",
      "source": [
        "from azureml.core import Environment\r\n",
        "env = Environment.get(ws, 'AzureML-minimal-ubuntu18.04-py37-cpu-inference').clone('r_train_env1')\r\n",
        "\r\n",
        "env.docker.enabled = True\r\n",
        "\r\n",
        "\r\n",
        "# if you are using base image from a Dockerfile\r\n",
        "env.docker.base_image = None\r\n",
        "env.docker.base_dockerfile = './Dockerfile'\r\n",
        "\r\n",
        "# The user_managed_dependencies flag to True will use your custom image's built-in Python environment. \r\n",
        "env.python.user_managed_dependencies = True\r\n",
        "\r\n"
      ],
      "outputs": [],
      "execution_count": 14,
      "metadata": {
        "gather": {
          "logged": 1648153473245
        }
      }
    },
    {
      "cell_type": "code",
      "source": [
        "env"
      ],
      "outputs": [
        {
          "output_type": "execute_result",
          "execution_count": 15,
          "data": {
            "text/plain": "{\n    \"databricks\": {\n        \"eggLibraries\": [],\n        \"jarLibraries\": [],\n        \"mavenLibraries\": [],\n        \"pypiLibraries\": [],\n        \"rcranLibraries\": []\n    },\n    \"docker\": {\n        \"arguments\": [],\n        \"baseDockerfile\": \"FROM rocker/tidyverse:4.0.0-ubuntu18.04\\n\\n# Install python\\nRUN apt-get update -qq && \\\\\\n apt-get install -y python3-pip tcl tk libz-dev libpng-dev\\n\\nRUN ln -f /usr/bin/python3 /usr/bin/python\\nRUN ln -f /usr/bin/pip3 /usr/bin/pip\\nRUN pip install -U pip\\n\\n# Install azureml-mlflow\\nRUN pip install azureml-mlflow\\n\\n# Create link for python\\nRUN ln -f /usr/bin/python3 /usr/bin/python\\n\\n# Install additional R packages\\nRUN R -e \\\"install.packages(c('mlflow'), repos = 'https://cloud.r-project.org/')\\\"\\nRUN R -e \\\"install.packages(c('carrier'), repos = 'https://cloud.r-project.org/')\\\"\\nRUN R -e \\\"install.packages(c('optparse'), repos = 'https://cloud.r-project.org/')\\\"\\nRUN R -e \\\"install.packages(c('tcltk2'), repos = 'https://cloud.r-project.org/')\\\"\\n\",\n        \"baseImage\": null,\n        \"baseImageRegistry\": {\n            \"address\": null,\n            \"password\": null,\n            \"registryIdentity\": null,\n            \"username\": null\n        },\n        \"enabled\": true,\n        \"platform\": {\n            \"architecture\": \"amd64\",\n            \"os\": \"Linux\"\n        },\n        \"sharedVolumes\": true,\n        \"shmSize\": null\n    },\n    \"environmentVariables\": {\n        \"EXAMPLE_ENV_VAR\": \"EXAMPLE_VALUE\"\n    },\n    \"inferencingStackVersion\": null,\n    \"name\": \"r_train_env1\",\n    \"python\": {\n        \"baseCondaEnvironment\": null,\n        \"condaDependenciesFile\": null,\n        \"interpreterPath\": \"python\",\n        \"userManagedDependencies\": true\n    },\n    \"r\": null,\n    \"spark\": {\n        \"packages\": [],\n        \"precachePackages\": true,\n        \"repositories\": []\n    },\n    \"version\": null\n}"
          },
          "metadata": {}
        }
      ],
      "execution_count": 15,
      "metadata": {
        "jupyter": {
          "source_hidden": false,
          "outputs_hidden": false
        },
        "nteract": {
          "transient": {
            "deleting": false
          }
        },
        "gather": {
          "logged": 1648153476727
        }
      }
    },
    {
      "cell_type": "code",
      "source": [
        "env.register(ws)"
      ],
      "outputs": [
        {
          "output_type": "execute_result",
          "execution_count": 16,
          "data": {
            "text/plain": "{\n    \"databricks\": {\n        \"eggLibraries\": [],\n        \"jarLibraries\": [],\n        \"mavenLibraries\": [],\n        \"pypiLibraries\": [],\n        \"rcranLibraries\": []\n    },\n    \"docker\": {\n        \"arguments\": [],\n        \"baseDockerfile\": \"FROM rocker/tidyverse:4.0.0-ubuntu18.04\\n\\n# Install python\\nRUN apt-get update -qq && \\\\\\n apt-get install -y python3-pip tcl tk libz-dev libpng-dev\\n\\nRUN ln -f /usr/bin/python3 /usr/bin/python\\nRUN ln -f /usr/bin/pip3 /usr/bin/pip\\nRUN pip install -U pip\\n\\n# Install azureml-mlflow\\nRUN pip install azureml-mlflow\\n\\n# Create link for python\\nRUN ln -f /usr/bin/python3 /usr/bin/python\\n\\n# Install additional R packages\\nRUN R -e \\\"install.packages(c('mlflow'), repos = 'https://cloud.r-project.org/')\\\"\\nRUN R -e \\\"install.packages(c('carrier'), repos = 'https://cloud.r-project.org/')\\\"\\nRUN R -e \\\"install.packages(c('optparse'), repos = 'https://cloud.r-project.org/')\\\"\\nRUN R -e \\\"install.packages(c('tcltk2'), repos = 'https://cloud.r-project.org/')\\\"\\n\",\n        \"baseImage\": null,\n        \"baseImageRegistry\": {\n            \"address\": null,\n            \"password\": null,\n            \"registryIdentity\": null,\n            \"username\": null\n        },\n        \"enabled\": true,\n        \"platform\": {\n            \"architecture\": \"amd64\",\n            \"os\": \"Linux\"\n        },\n        \"sharedVolumes\": true,\n        \"shmSize\": null\n    },\n    \"environmentVariables\": {\n        \"EXAMPLE_ENV_VAR\": \"EXAMPLE_VALUE\"\n    },\n    \"inferencingStackVersion\": null,\n    \"name\": \"r_train_env1\",\n    \"python\": {\n        \"baseCondaEnvironment\": null,\n        \"condaDependenciesFile\": null,\n        \"interpreterPath\": \"python\",\n        \"userManagedDependencies\": true\n    },\n    \"r\": null,\n    \"spark\": {\n        \"packages\": [],\n        \"precachePackages\": true,\n        \"repositories\": []\n    },\n    \"version\": \"1\"\n}"
          },
          "metadata": {}
        }
      ],
      "execution_count": 16,
      "metadata": {
        "jupyter": {
          "source_hidden": false,
          "outputs_hidden": false
        },
        "nteract": {
          "transient": {
            "deleting": false
          }
        },
        "gather": {
          "logged": 1648153492498
        }
      }
    }
  ],
  "metadata": {
    "kernelspec": {
      "name": "python38-azureml",
      "language": "python",
      "display_name": "Python 3.8 - AzureML"
    },
    "language_info": {
      "name": "python",
      "version": "3.8.1",
      "mimetype": "text/x-python",
      "codemirror_mode": {
        "name": "ipython",
        "version": 3
      },
      "pygments_lexer": "ipython3",
      "nbconvert_exporter": "python",
      "file_extension": ".py"
    },
    "kernel_info": {
      "name": "python38-azureml"
    },
    "microsoft": {
      "host": {
        "AzureML": {
          "notebookHasBeenCompleted": true
        }
      }
    },
    "nteract": {
      "version": "nteract-front-end@1.0.0"
    }
  },
  "nbformat": 4,
  "nbformat_minor": 0
}